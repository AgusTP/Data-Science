{
 "cells": [
  {
   "cell_type": "markdown",
   "metadata": {},
   "source": [
    "# NY taxi data"
   ]
  },
  {
   "cell_type": "markdown",
   "metadata": {},
   "source": [
    "The purpose of this notebook is to practice different types of map visualization tools with the given NY taxi dataset."
   ]
  },
  {
   "cell_type": "markdown",
   "metadata": {},
   "source": [
    "![TaxiUrll](https://media.giphy.com/media/3ohfFH6Evbu6ElsiIw/giphy.gif \"taxi\")"
   ]
  },
  {
   "cell_type": "code",
   "execution_count": 1,
   "metadata": {},
   "outputs": [
    {
     "ename": "ModuleNotFoundError",
     "evalue": "No module named 'plotly'",
     "output_type": "error",
     "traceback": [
      "\u001b[1;31m---------------------------------------------------------------------------\u001b[0m",
      "\u001b[1;31mModuleNotFoundError\u001b[0m                       Traceback (most recent call last)",
      "\u001b[1;32m~\\AppData\\Local\\Temp/ipykernel_1028/2463352077.py\u001b[0m in \u001b[0;36m<module>\u001b[1;34m\u001b[0m\n\u001b[0;32m      3\u001b[0m \u001b[1;32mimport\u001b[0m \u001b[0mmatplotlib\u001b[0m\u001b[1;33m.\u001b[0m\u001b[0mpyplot\u001b[0m \u001b[1;32mas\u001b[0m \u001b[0mplt\u001b[0m\u001b[1;33m\u001b[0m\u001b[1;33m\u001b[0m\u001b[0m\n\u001b[0;32m      4\u001b[0m \u001b[1;32mimport\u001b[0m \u001b[0mseaborn\u001b[0m \u001b[1;32mas\u001b[0m \u001b[0msns\u001b[0m\u001b[1;33m\u001b[0m\u001b[1;33m\u001b[0m\u001b[0m\n\u001b[1;32m----> 5\u001b[1;33m \u001b[1;32mimport\u001b[0m \u001b[0mplotly\u001b[0m\u001b[1;33m.\u001b[0m\u001b[0mgraph_objects\u001b[0m \u001b[1;32mas\u001b[0m \u001b[0mgo\u001b[0m\u001b[1;33m\u001b[0m\u001b[1;33m\u001b[0m\u001b[0m\n\u001b[0m\u001b[0;32m      6\u001b[0m \u001b[1;32mimport\u001b[0m \u001b[0mplotly\u001b[0m\u001b[1;33m.\u001b[0m\u001b[0mfigure_factory\u001b[0m \u001b[1;32mas\u001b[0m \u001b[0mff\u001b[0m\u001b[1;33m\u001b[0m\u001b[1;33m\u001b[0m\u001b[0m\n\u001b[0;32m      7\u001b[0m \u001b[1;32mimport\u001b[0m \u001b[0mplotly\u001b[0m\u001b[1;33m.\u001b[0m\u001b[0mexpress\u001b[0m \u001b[1;32mas\u001b[0m \u001b[0mpx\u001b[0m\u001b[1;33m\u001b[0m\u001b[1;33m\u001b[0m\u001b[0m\n",
      "\u001b[1;31mModuleNotFoundError\u001b[0m: No module named 'plotly'"
     ]
    }
   ],
   "source": [
    "import numpy as np\n",
    "import pandas as pd\n",
    "import matplotlib.pyplot as plt\n",
    "import seaborn as sns\n",
    "import plotly.graph_objects as go\n",
    "import plotly.figure_factory as ff\n",
    "import plotly.express as px\n",
    "import datetime\n",
    "\n",
    "sns.set()\n",
    "%matplotlib inline"
   ]
  },
  {
   "cell_type": "code",
   "execution_count": null,
   "metadata": {},
   "outputs": [],
   "source": [
    "dataset = pd.read_csv('taxi.csv')"
   ]
  },
  {
   "cell_type": "code",
   "execution_count": null,
   "metadata": {},
   "outputs": [],
   "source": [
    "dataset = pd.read_csv('taxi.csv', usecols = np.arange(21))  # Ordering the columns properly\n",
    "dataset.head()"
   ]
  },
  {
   "cell_type": "code",
   "execution_count": null,
   "metadata": {},
   "outputs": [],
   "source": [
    "dataset.dtypes"
   ]
  },
  {
   "cell_type": "markdown",
   "metadata": {},
   "source": [
    "\"lpep_pickup_datetime\" and \"Lpep_dropoff_datetime\" should be date type."
   ]
  },
  {
   "cell_type": "code",
   "execution_count": null,
   "metadata": {},
   "outputs": [],
   "source": [
    "dataset = pd.read_csv('taxi.csv', usecols = np.arange(21), parse_dates = ['lpep_pickup_datetime','Lpep_dropoff_datetime']) "
   ]
  },
  {
   "cell_type": "code",
   "execution_count": null,
   "metadata": {},
   "outputs": [],
   "source": [
    "dataset.dtypes"
   ]
  },
  {
   "cell_type": "code",
   "execution_count": null,
   "metadata": {},
   "outputs": [],
   "source": [
    "dataset.describe().T"
   ]
  },
  {
   "cell_type": "markdown",
   "metadata": {},
   "source": [
    "## Let's see only the unique values"
   ]
  },
  {
   "cell_type": "code",
   "execution_count": null,
   "metadata": {},
   "outputs": [],
   "source": [
    "for col in dataset:\n",
    "    print(dataset[col].unique())\n",
    "    print(\"------------\")"
   ]
  },
  {
   "cell_type": "markdown",
   "metadata": {},
   "source": [
    "\"Ehail_Fee\" contains only NaN values.\n",
    "The dataset contains information of 2 vendors."
   ]
  },
  {
   "cell_type": "code",
   "execution_count": null,
   "metadata": {},
   "outputs": [],
   "source": [
    "dataset = dataset.drop(['Ehail_fee'], axis = 1) # It contains no useful data"
   ]
  },
  {
   "cell_type": "markdown",
   "metadata": {},
   "source": [
    "Now that we have our dataset, let's check our [data dictionary](https://www1.nyc.gov/assets/tlc/downloads/pdf/data_dictionary_trip_records_yellow.pdf) to have a better understanding on the dataset. I'll change the column names to more clear ones and some of the values in the dataframe."
   ]
  },
  {
   "cell_type": "code",
   "execution_count": null,
   "metadata": {},
   "outputs": [],
   "source": [
    "dataset = dataset.rename(columns={'VendorID': 'Provider',\n",
    "                                  'lpep_pickup_datetime': 'Date_Engaged',\n",
    "                                  'Lpep_dropoff_datetime': 'Date_Disengaged',\n",
    "                                  'Store_and_fwd_flag':'Store_and_forward',\n",
    "                                  'RateCodeID':'Final_Rate',\n",
    "                                  'Tip_amount':'Credit_card_tips'})"
   ]
  },
  {
   "cell_type": "code",
   "execution_count": null,
   "metadata": {},
   "outputs": [],
   "source": [
    "dataset = dataset.drop(['Trip_type '], axis = 1) #Dropping as we don´t have more information about the column "
   ]
  },
  {
   "cell_type": "code",
   "execution_count": null,
   "metadata": {},
   "outputs": [],
   "source": [
    "dataset['Provider'] = dataset['Provider'].replace([1,2],['Creative Mobile Technologies','VeriFone Inc.'])\n",
    "dataset['Store_and_forward'] = dataset['Store_and_forward'].replace(['Y','N'],['Yes','No'])\n",
    "dataset['Final_Rate'] = dataset['Final_Rate'].replace([1,2,3,4,5,6],['Standard rate','JFK','Newark','Nassau or Westchester','Negotiated fare','Group ride'])\n",
    "dataset['Payment_type'] = dataset['Payment_type'].replace([1,2,3,4,5,6],['Credit card','Cash', 'No charge','Dispute','Unknown','Voided trip'])"
   ]
  },
  {
   "cell_type": "markdown",
   "metadata": {},
   "source": [
    "Let's see where dates begin and end."
   ]
  },
  {
   "cell_type": "code",
   "execution_count": null,
   "metadata": {},
   "outputs": [],
   "source": [
    "print (dataset.Date_Engaged.min())\n",
    "print (dataset.Date_Disengaged.max())"
   ]
  },
  {
   "cell_type": "markdown",
   "metadata": {},
   "source": [
    "Our analysis will be done in a month time span between march and april of the year 2015."
   ]
  },
  {
   "cell_type": "markdown",
   "metadata": {},
   "source": [
    "# EDA"
   ]
  },
  {
   "cell_type": "markdown",
   "metadata": {},
   "source": [
    "### First let's visualize the amount of Provider, Final Rates and Payment Type."
   ]
  },
  {
   "cell_type": "code",
   "execution_count": null,
   "metadata": {},
   "outputs": [],
   "source": [
    "Final_Rate = pd.DataFrame(dataset['Final_Rate'].value_counts()).reset_index()\n",
    "Final_Rate.columns = ['Final_Rate','Count']\n",
    "fig = px.bar(Final_Rate, x = 'Final_Rate', y = 'Count', color = 'Final_Rate', title='Final Rate vs Count')        \n",
    "fig.show()"
   ]
  },
  {
   "cell_type": "code",
   "execution_count": null,
   "metadata": {},
   "outputs": [],
   "source": [
    "Provider = pd.DataFrame(dataset['Provider'].value_counts()).reset_index()\n",
    "Provider.columns = ['Provider','Count']\n",
    "fig = px.bar(Provider, x = 'Provider', y = 'Count', color = 'Provider', title='Provider vs Count')        \n",
    "fig.show()"
   ]
  },
  {
   "cell_type": "code",
   "execution_count": null,
   "metadata": {},
   "outputs": [],
   "source": [
    "Payment_type = pd.DataFrame(dataset['Payment_type'].value_counts()).reset_index()\n",
    "Payment_type.columns = ['Payment_type','Count']\n",
    "fig = px.pie(Payment_type, values='Count', names='Payment_type', color_discrete_sequence=px.colors.sequential.RdBu)\n",
    "fig.show()"
   ]
  },
  {
   "cell_type": "markdown",
   "metadata": {},
   "source": [
    "Now we have some useful information:\n",
    "- Most trips were paid in cash or credit card.\n",
    "- Most trips records were provided by Verifone Inc.\n",
    "- Most of them where Standard Rate."
   ]
  },
  {
   "cell_type": "markdown",
   "metadata": {},
   "source": [
    "### Working with date column"
   ]
  },
  {
   "cell_type": "markdown",
   "metadata": {},
   "source": [
    "Let's see how many trips where made at each hour"
   ]
  },
  {
   "cell_type": "code",
   "execution_count": null,
   "metadata": {},
   "outputs": [],
   "source": [
    "dataset['Date_Engaged'] = dataset['Date_Engaged'].dt.round('H')\n",
    "dataset['Date_Disengaged'] = dataset['Date_Disengaged'].dt.round('H')\n",
    "dataset.groupby(dataset['Date_Engaged'].dt.round('H')).count().head()"
   ]
  },
  {
   "cell_type": "code",
   "execution_count": null,
   "metadata": {},
   "outputs": [],
   "source": [
    "Daily_count = dataset.groupby(dataset['Date_Engaged'].dt.round('H')).count()['Provider'].to_frame()\n",
    "fig = go.Figure([go.Scatter(x = Daily_count.index.to_series(), y=Daily_count['Provider'])])\n",
    "fig.show()"
   ]
  },
  {
   "cell_type": "markdown",
   "metadata": {},
   "source": [
    "- The least amount of trips ordered where from 3 to 6 am everyday.\n",
    "- We can see some peaks... Those are weekends!"
   ]
  },
  {
   "cell_type": "markdown",
   "metadata": {},
   "source": [
    "### Let's see where the most pickups take place"
   ]
  },
  {
   "cell_type": "code",
   "execution_count": null,
   "metadata": {},
   "outputs": [],
   "source": [
    "dataset2 = dataset.sample(frac = 0.002)\n",
    "dataset2.head()"
   ]
  },
  {
   "cell_type": "code",
   "execution_count": null,
   "metadata": {},
   "outputs": [],
   "source": [
    "import folium \n",
    "\n",
    "map_osm = folium.Map(\n",
    "    location = [40.75, -73.9],\n",
    "    zoom_start = 10\n",
    ")\n",
    "map_osm\n",
    "\n",
    "for indice, row in dataset2.iterrows():\n",
    "   folium.Marker(\n",
    "        location=[row[\"Pickup_latitude\"], row[\"Pickup_longitude\"]],\n",
    "        icon=folium.map.Icon(color='red')\n",
    "    ).add_to(map_osm)\n",
    "map_osm\n"
   ]
  },
  {
   "cell_type": "markdown",
   "metadata": {},
   "source": [
    "Most pickups take place in Brooklyn, Central Park and on Roosevelt Avenue in Queens."
   ]
  },
  {
   "cell_type": "markdown",
   "metadata": {},
   "source": [
    "### Let's see where the most dropoffs take place"
   ]
  },
  {
   "cell_type": "code",
   "execution_count": null,
   "metadata": {},
   "outputs": [],
   "source": [
    "map_osm = folium.Map(\n",
    "    location = [40.75, -73.9],\n",
    "    zoom_start = 10\n",
    ")\n",
    "map_osm\n",
    "\n",
    "for indice, row in dataset2.iterrows():\n",
    "   folium.Marker(\n",
    "        location=[row[\"Dropoff_latitude\"], row[\"Dropoff_longitude\"]],\n",
    "        icon=folium.map.Icon(color='red')\n",
    "    ).add_to(map_osm)\n",
    "map_osm"
   ]
  },
  {
   "cell_type": "markdown",
   "metadata": {},
   "source": [
    "There seems to be no clear destination for dropoffs"
   ]
  },
  {
   "cell_type": "markdown",
   "metadata": {},
   "source": [
    "### Let's see if there is any relationship between the fare amount and the pickup place"
   ]
  },
  {
   "cell_type": "code",
   "execution_count": null,
   "metadata": {},
   "outputs": [],
   "source": [
    "fig = px.density_mapbox(dataset, \n",
    "                        lat ='Pickup_latitude', \n",
    "                        lon ='Pickup_longitude', \n",
    "                        z = 'Fare_amount', \n",
    "                        color_continuous_scale  = 'solar',\n",
    "                        radius = 1,\n",
    "                        center = dict(lat=40.75, lon=-73.9), \n",
    "                        zoom = 10,\n",
    "                        mapbox_style = \"carto-darkmatter\",\n",
    "                        )\n",
    "fig.update_layout(\n",
    "    title='NYC Taxi Pickups vs Fare_amount',\n",
    "    height=800,\n",
    "    template=\"plotly_dark\",\n",
    ")\n",
    "\n",
    "fig.show()"
   ]
  },
  {
   "cell_type": "markdown",
   "metadata": {},
   "source": [
    "# Getting address from latitude / longitude"
   ]
  },
  {
   "cell_type": "code",
   "execution_count": null,
   "metadata": {},
   "outputs": [],
   "source": [
    "import geopy\n",
    "from geopy.geocoders import Nominatim\n",
    "from geopy.extra.rate_limiter import RateLimiter\n",
    "\n",
    "import tqdm\n",
    "from tqdm._tqdm_notebook import tqdm_notebook"
   ]
  },
  {
   "cell_type": "code",
   "execution_count": null,
   "metadata": {},
   "outputs": [],
   "source": [
    "dataset['geom'] = dataset['Pickup_latitude'].map(str) + ',' + dataset['Pickup_longitude'].map(str)\n",
    "dataset['geom'][0]"
   ]
  },
  {
   "cell_type": "code",
   "execution_count": null,
   "metadata": {},
   "outputs": [],
   "source": [
    "dataset2 = dataset.copy()\n",
    "dataset2 = dataset2.sample(frac = 0.005)"
   ]
  },
  {
   "cell_type": "code",
   "execution_count": null,
   "metadata": {},
   "outputs": [],
   "source": [
    "locator = Nominatim(user_agent='myGeocoder', timeout=10)\n",
    "rgeocode = RateLimiter(locator.reverse, min_delay_seconds=0.001)"
   ]
  },
  {
   "cell_type": "code",
   "execution_count": null,
   "metadata": {},
   "outputs": [],
   "source": [
    "tqdm_notebook.pandas()\n",
    "dataset2['address'] = dataset2['geom'].progress_apply(rgeocode)\n",
    "dataset2.head()"
   ]
  },
  {
   "cell_type": "code",
   "execution_count": null,
   "metadata": {},
   "outputs": [],
   "source": [
    "import geopandas as gpd\n",
    "gdf = gpd.read_file(gpd.datasets.get_path(\"nybb\"))\n",
    "gdf.head(20)"
   ]
  },
  {
   "cell_type": "markdown",
   "metadata": {},
   "source": [
    "## Working with hour"
   ]
  },
  {
   "cell_type": "code",
   "execution_count": null,
   "metadata": {},
   "outputs": [],
   "source": [
    "Hour_count1 = dataset.groupby(dataset['Date_Engaged'].dt.round('H')).count()['Provider'].loc['2015-03-03'].to_frame()\n",
    "Hour_count2 = dataset.groupby(dataset['Date_Engaged'].dt.round('H')).count()['Provider'].loc['2015-03-06'].to_frame()\n",
    "\n",
    "Hour_count1 = Hour_count1.reset_index()\n",
    "Hour_count1['time'] = [d.time() for d in Hour_count1['Date_Engaged']]\n",
    "Hour_count1.columns = ['Date_Engaged1','2015-03-03','time']\n",
    "\n",
    "Hour_count2 = Hour_count2.reset_index()\n",
    "Hour_count2['time'] = [d.time() for d in Hour_count2['Date_Engaged']]\n",
    "Hour_count2.columns = ['Date_Engaged2','2015-03-06','time']"
   ]
  },
  {
   "cell_type": "code",
   "execution_count": null,
   "metadata": {},
   "outputs": [],
   "source": [
    "Hour = pd.merge(Hour_count1,Hour_count2,on='time',how='outer')\n",
    "Hour = Hour.drop(['Date_Engaged1','Date_Engaged2'], 1)\n",
    "Hour = Hour.set_index('time')\n",
    "Hour.head()"
   ]
  },
  {
   "cell_type": "code",
   "execution_count": null,
   "metadata": {},
   "outputs": [],
   "source": [
    "fig = px.line(Hour, x=Hour.index, y=['2015-03-03','2015-03-06'], title='Hourly rides comparison')\n",
    "\n",
    "fig.update_xaxes(rangeslider_visible=True)\n",
    "fig.show()"
   ]
  },
  {
   "cell_type": "markdown",
   "metadata": {},
   "source": [
    "We can see that on a Saturday there where many more rides at nighttime than on a Tuesday!"
   ]
  }
 ],
 "metadata": {
  "kernelspec": {
   "display_name": "Python 3 (ipykernel)",
   "language": "python",
   "name": "python3"
  },
  "language_info": {
   "codemirror_mode": {
    "name": "ipython",
    "version": 3
   },
   "file_extension": ".py",
   "mimetype": "text/x-python",
   "name": "python",
   "nbconvert_exporter": "python",
   "pygments_lexer": "ipython3",
   "version": "3.9.7"
  }
 },
 "nbformat": 4,
 "nbformat_minor": 4
}
