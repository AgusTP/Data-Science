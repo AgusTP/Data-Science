{
 "cells": [
  {
   "cell_type": "markdown",
   "id": "d1d8e9b2",
   "metadata": {},
   "source": [
    "# Time Series EDA & ARIMA analysis"
   ]
  },
  {
   "cell_type": "markdown",
   "id": "d4aaea3e",
   "metadata": {},
   "source": [
    "In this project we will come up with insights and a time series analysis about a high speed jet propulsion technology."
   ]
  },
  {
   "cell_type": "markdown",
   "id": "9dc16669",
   "metadata": {},
   "source": [
    "![speedtrain](https://media1.giphy.com/media/3oz8xtBx06mcZWoNJm/giphy.gif?cid=ecf05e47cs1pmjh569om2oea0p7scgjqjvzjrobo6qccw9cj&rid=giphy.gif&ct=g)"
   ]
  },
  {
   "cell_type": "markdown",
   "id": "c393edf6",
   "metadata": {},
   "source": [
    "#### Importing packages"
   ]
  },
  {
   "cell_type": "code",
   "execution_count": 1,
   "id": "2c91b192",
   "metadata": {},
   "outputs": [],
   "source": [
    "import numpy as np\n",
    "import pandas as pd\n",
    "import matplotlib.pyplot as plt\n",
    "import seaborn as sns\n",
    "from datetime import datetime\n",
    "\n",
    "%matplotlib inline\n",
    "import warnings\n",
    "warnings.filterwarnings(\"ignore\")"
   ]
  },
  {
   "cell_type": "markdown",
   "id": "9fe9cb1b",
   "metadata": {},
   "source": [
    "#### Loading data"
   ]
  },
  {
   "cell_type": "code",
   "execution_count": 2,
   "id": "e19940a2",
   "metadata": {},
   "outputs": [],
   "source": [
    "test = pd.read_csv(\"Test.csv\")\n",
    "train = pd.read_csv(\"Train.csv\")"
   ]
  },
  {
   "cell_type": "code",
   "execution_count": 3,
   "id": "818254ab",
   "metadata": {},
   "outputs": [],
   "source": [
    "test_original = test.copy()\n",
    "train_original = train.copy()"
   ]
  },
  {
   "cell_type": "markdown",
   "id": "4ac73c2e",
   "metadata": {},
   "source": [
    "### Looking into the data"
   ]
  },
  {
   "cell_type": "code",
   "execution_count": 4,
   "id": "804a92af",
   "metadata": {},
   "outputs": [
    {
     "data": {
      "text/html": [
       "<div>\n",
       "<style scoped>\n",
       "    .dataframe tbody tr th:only-of-type {\n",
       "        vertical-align: middle;\n",
       "    }\n",
       "\n",
       "    .dataframe tbody tr th {\n",
       "        vertical-align: top;\n",
       "    }\n",
       "\n",
       "    .dataframe thead th {\n",
       "        text-align: right;\n",
       "    }\n",
       "</style>\n",
       "<table border=\"1\" class=\"dataframe\">\n",
       "  <thead>\n",
       "    <tr style=\"text-align: right;\">\n",
       "      <th></th>\n",
       "      <th>ID</th>\n",
       "      <th>Datetime</th>\n",
       "      <th>Count</th>\n",
       "    </tr>\n",
       "  </thead>\n",
       "  <tbody>\n",
       "    <tr>\n",
       "      <th>0</th>\n",
       "      <td>0</td>\n",
       "      <td>25-08-2012 00:00</td>\n",
       "      <td>8</td>\n",
       "    </tr>\n",
       "    <tr>\n",
       "      <th>1</th>\n",
       "      <td>1</td>\n",
       "      <td>25-08-2012 01:00</td>\n",
       "      <td>2</td>\n",
       "    </tr>\n",
       "    <tr>\n",
       "      <th>2</th>\n",
       "      <td>2</td>\n",
       "      <td>25-08-2012 02:00</td>\n",
       "      <td>6</td>\n",
       "    </tr>\n",
       "  </tbody>\n",
       "</table>\n",
       "</div>"
      ],
      "text/plain": [
       "   ID          Datetime  Count\n",
       "0   0  25-08-2012 00:00      8\n",
       "1   1  25-08-2012 01:00      2\n",
       "2   2  25-08-2012 02:00      6"
      ]
     },
     "execution_count": 4,
     "metadata": {},
     "output_type": "execute_result"
    }
   ],
   "source": [
    "train.head(3)"
   ]
  },
  {
   "cell_type": "code",
   "execution_count": 5,
   "id": "0a2b71ed",
   "metadata": {},
   "outputs": [
    {
     "data": {
      "text/plain": [
       "((18288, 3), (5112, 2))"
      ]
     },
     "execution_count": 5,
     "metadata": {},
     "output_type": "execute_result"
    }
   ],
   "source": [
    "train.shape, test.shape"
   ]
  },
  {
   "cell_type": "code",
   "execution_count": 6,
   "id": "0029385b",
   "metadata": {},
   "outputs": [
    {
     "data": {
      "text/html": [
       "<div>\n",
       "<style scoped>\n",
       "    .dataframe tbody tr th:only-of-type {\n",
       "        vertical-align: middle;\n",
       "    }\n",
       "\n",
       "    .dataframe tbody tr th {\n",
       "        vertical-align: top;\n",
       "    }\n",
       "\n",
       "    .dataframe thead th {\n",
       "        text-align: right;\n",
       "    }\n",
       "</style>\n",
       "<table border=\"1\" class=\"dataframe\">\n",
       "  <thead>\n",
       "    <tr style=\"text-align: right;\">\n",
       "      <th></th>\n",
       "      <th>ID</th>\n",
       "      <th>Datetime</th>\n",
       "    </tr>\n",
       "  </thead>\n",
       "  <tbody>\n",
       "    <tr>\n",
       "      <th>0</th>\n",
       "      <td>18288</td>\n",
       "      <td>26-09-2014 00:00</td>\n",
       "    </tr>\n",
       "    <tr>\n",
       "      <th>1</th>\n",
       "      <td>18289</td>\n",
       "      <td>26-09-2014 01:00</td>\n",
       "    </tr>\n",
       "    <tr>\n",
       "      <th>2</th>\n",
       "      <td>18290</td>\n",
       "      <td>26-09-2014 02:00</td>\n",
       "    </tr>\n",
       "  </tbody>\n",
       "</table>\n",
       "</div>"
      ],
      "text/plain": [
       "      ID          Datetime\n",
       "0  18288  26-09-2014 00:00\n",
       "1  18289  26-09-2014 01:00\n",
       "2  18290  26-09-2014 02:00"
      ]
     },
     "execution_count": 6,
     "metadata": {},
     "output_type": "execute_result"
    }
   ],
   "source": [
    "test.head(3) # We will make predictions on the passengers count"
   ]
  },
  {
   "cell_type": "code",
   "execution_count": 7,
   "id": "530e42d9",
   "metadata": {},
   "outputs": [
    {
     "name": "stdout",
     "output_type": "stream",
     "text": [
      "<class 'pandas.core.frame.DataFrame'>\n",
      "RangeIndex: 5112 entries, 0 to 5111\n",
      "Data columns (total 2 columns):\n",
      " #   Column    Non-Null Count  Dtype \n",
      "---  ------    --------------  ----- \n",
      " 0   ID        5112 non-null   int64 \n",
      " 1   Datetime  5112 non-null   object\n",
      "dtypes: int64(1), object(1)\n",
      "memory usage: 80.0+ KB\n"
     ]
    }
   ],
   "source": [
    "test.info()"
   ]
  },
  {
   "cell_type": "markdown",
   "id": "2c2d402c",
   "metadata": {},
   "source": [
    "It is necessary to change datetime from object to datetime format"
   ]
  },
  {
   "cell_type": "code",
   "execution_count": 8,
   "id": "e7cad053",
   "metadata": {},
   "outputs": [],
   "source": [
    "train['Datetime'] = pd.to_datetime(train['Datetime'], infer_datetime_format = True)\n",
    "test['Datetime'] = pd.to_datetime(test['Datetime'], infer_datetime_format = True)"
   ]
  },
  {
   "cell_type": "markdown",
   "id": "7de35310",
   "metadata": {},
   "source": [
    "Extracting year, month, day and hour"
   ]
  },
  {
   "cell_type": "code",
   "execution_count": 9,
   "id": "c1c15731",
   "metadata": {},
   "outputs": [],
   "source": [
    "for i in (train, test):\n",
    "    i['year'] = i.Datetime.dt.year\n",
    "    i['month'] = i.Datetime.dt.month\n",
    "    i['day'] = i.Datetime.dt.day\n",
    "    i['hour'] = i.Datetime.dt.hour"
   ]
  },
  {
   "cell_type": "code",
   "execution_count": 10,
   "id": "4d0d700a",
   "metadata": {},
   "outputs": [
    {
     "data": {
      "text/html": [
       "<div>\n",
       "<style scoped>\n",
       "    .dataframe tbody tr th:only-of-type {\n",
       "        vertical-align: middle;\n",
       "    }\n",
       "\n",
       "    .dataframe tbody tr th {\n",
       "        vertical-align: top;\n",
       "    }\n",
       "\n",
       "    .dataframe thead th {\n",
       "        text-align: right;\n",
       "    }\n",
       "</style>\n",
       "<table border=\"1\" class=\"dataframe\">\n",
       "  <thead>\n",
       "    <tr style=\"text-align: right;\">\n",
       "      <th></th>\n",
       "      <th>ID</th>\n",
       "      <th>Datetime</th>\n",
       "      <th>Count</th>\n",
       "      <th>year</th>\n",
       "      <th>month</th>\n",
       "      <th>day</th>\n",
       "      <th>hour</th>\n",
       "    </tr>\n",
       "  </thead>\n",
       "  <tbody>\n",
       "    <tr>\n",
       "      <th>0</th>\n",
       "      <td>0</td>\n",
       "      <td>2012-08-25 00:00:00</td>\n",
       "      <td>8</td>\n",
       "      <td>2012</td>\n",
       "      <td>8</td>\n",
       "      <td>25</td>\n",
       "      <td>0</td>\n",
       "    </tr>\n",
       "    <tr>\n",
       "      <th>1</th>\n",
       "      <td>1</td>\n",
       "      <td>2012-08-25 01:00:00</td>\n",
       "      <td>2</td>\n",
       "      <td>2012</td>\n",
       "      <td>8</td>\n",
       "      <td>25</td>\n",
       "      <td>1</td>\n",
       "    </tr>\n",
       "    <tr>\n",
       "      <th>2</th>\n",
       "      <td>2</td>\n",
       "      <td>2012-08-25 02:00:00</td>\n",
       "      <td>6</td>\n",
       "      <td>2012</td>\n",
       "      <td>8</td>\n",
       "      <td>25</td>\n",
       "      <td>2</td>\n",
       "    </tr>\n",
       "    <tr>\n",
       "      <th>3</th>\n",
       "      <td>3</td>\n",
       "      <td>2012-08-25 03:00:00</td>\n",
       "      <td>2</td>\n",
       "      <td>2012</td>\n",
       "      <td>8</td>\n",
       "      <td>25</td>\n",
       "      <td>3</td>\n",
       "    </tr>\n",
       "    <tr>\n",
       "      <th>4</th>\n",
       "      <td>4</td>\n",
       "      <td>2012-08-25 04:00:00</td>\n",
       "      <td>2</td>\n",
       "      <td>2012</td>\n",
       "      <td>8</td>\n",
       "      <td>25</td>\n",
       "      <td>4</td>\n",
       "    </tr>\n",
       "  </tbody>\n",
       "</table>\n",
       "</div>"
      ],
      "text/plain": [
       "   ID            Datetime  Count  year  month  day  hour\n",
       "0   0 2012-08-25 00:00:00      8  2012      8   25     0\n",
       "1   1 2012-08-25 01:00:00      2  2012      8   25     1\n",
       "2   2 2012-08-25 02:00:00      6  2012      8   25     2\n",
       "3   3 2012-08-25 03:00:00      2  2012      8   25     3\n",
       "4   4 2012-08-25 04:00:00      2  2012      8   25     4"
      ]
     },
     "execution_count": 10,
     "metadata": {},
     "output_type": "execute_result"
    }
   ],
   "source": [
    "train.head()"
   ]
  },
  {
   "cell_type": "code",
   "execution_count": 11,
   "id": "fcd393cc",
   "metadata": {},
   "outputs": [],
   "source": [
    "train['Day of Week'] = train['Datetime'].dt.dayofweek # Takes from Datetime column the day of the week in a new one"
   ]
  },
  {
   "cell_type": "markdown",
   "id": "bfff4f89",
   "metadata": {},
   "source": [
    "Note: Saturday is day 5 and sunday is day 6"
   ]
  },
  {
   "cell_type": "code",
   "execution_count": 12,
   "id": "66479929",
   "metadata": {},
   "outputs": [
    {
     "data": {
      "text/html": [
       "<div>\n",
       "<style scoped>\n",
       "    .dataframe tbody tr th:only-of-type {\n",
       "        vertical-align: middle;\n",
       "    }\n",
       "\n",
       "    .dataframe tbody tr th {\n",
       "        vertical-align: top;\n",
       "    }\n",
       "\n",
       "    .dataframe thead th {\n",
       "        text-align: right;\n",
       "    }\n",
       "</style>\n",
       "<table border=\"1\" class=\"dataframe\">\n",
       "  <thead>\n",
       "    <tr style=\"text-align: right;\">\n",
       "      <th></th>\n",
       "      <th>ID</th>\n",
       "      <th>Datetime</th>\n",
       "      <th>Count</th>\n",
       "      <th>year</th>\n",
       "      <th>month</th>\n",
       "      <th>day</th>\n",
       "      <th>hour</th>\n",
       "      <th>Day of Week</th>\n",
       "    </tr>\n",
       "  </thead>\n",
       "  <tbody>\n",
       "    <tr>\n",
       "      <th>13454</th>\n",
       "      <td>13454</td>\n",
       "      <td>2014-03-08 14:00:00</td>\n",
       "      <td>140</td>\n",
       "      <td>2014</td>\n",
       "      <td>3</td>\n",
       "      <td>8</td>\n",
       "      <td>14</td>\n",
       "      <td>5</td>\n",
       "    </tr>\n",
       "    <tr>\n",
       "      <th>16996</th>\n",
       "      <td>16996</td>\n",
       "      <td>2014-08-03 04:00:00</td>\n",
       "      <td>124</td>\n",
       "      <td>2014</td>\n",
       "      <td>8</td>\n",
       "      <td>3</td>\n",
       "      <td>4</td>\n",
       "      <td>6</td>\n",
       "    </tr>\n",
       "    <tr>\n",
       "      <th>4193</th>\n",
       "      <td>4193</td>\n",
       "      <td>2013-02-15 17:00:00</td>\n",
       "      <td>30</td>\n",
       "      <td>2013</td>\n",
       "      <td>2</td>\n",
       "      <td>15</td>\n",
       "      <td>17</td>\n",
       "      <td>4</td>\n",
       "    </tr>\n",
       "    <tr>\n",
       "      <th>3420</th>\n",
       "      <td>3420</td>\n",
       "      <td>2013-01-14 12:00:00</td>\n",
       "      <td>10</td>\n",
       "      <td>2013</td>\n",
       "      <td>1</td>\n",
       "      <td>14</td>\n",
       "      <td>12</td>\n",
       "      <td>0</td>\n",
       "    </tr>\n",
       "    <tr>\n",
       "      <th>16136</th>\n",
       "      <td>16136</td>\n",
       "      <td>2014-06-28 08:00:00</td>\n",
       "      <td>166</td>\n",
       "      <td>2014</td>\n",
       "      <td>6</td>\n",
       "      <td>28</td>\n",
       "      <td>8</td>\n",
       "      <td>5</td>\n",
       "    </tr>\n",
       "  </tbody>\n",
       "</table>\n",
       "</div>"
      ],
      "text/plain": [
       "          ID            Datetime  Count  year  month  day  hour  Day of Week\n",
       "13454  13454 2014-03-08 14:00:00    140  2014      3    8    14            5\n",
       "16996  16996 2014-08-03 04:00:00    124  2014      8    3     4            6\n",
       "4193    4193 2013-02-15 17:00:00     30  2013      2   15    17            4\n",
       "3420    3420 2013-01-14 12:00:00     10  2013      1   14    12            0\n",
       "16136  16136 2014-06-28 08:00:00    166  2014      6   28     8            5"
      ]
     },
     "execution_count": 12,
     "metadata": {},
     "output_type": "execute_result"
    }
   ],
   "source": [
    "train.sample(5)"
   ]
  },
  {
   "cell_type": "markdown",
   "id": "46ac1b25",
   "metadata": {},
   "source": [
    "Now we will generate a new column to know if that day is a weekday or not"
   ]
  },
  {
   "cell_type": "code",
   "execution_count": 13,
   "id": "0a2e18ee",
   "metadata": {},
   "outputs": [],
   "source": [
    "def applyer(row): # Only for datetime rows!\n",
    "    if row.dayofweek == 5 or row.dayofweek ==6:\n",
    "        return 1\n",
    "    else:\n",
    "        return 0"
   ]
  },
  {
   "cell_type": "code",
   "execution_count": 14,
   "id": "b2204ae7",
   "metadata": {},
   "outputs": [
    {
     "data": {
      "text/html": [
       "<div>\n",
       "<style scoped>\n",
       "    .dataframe tbody tr th:only-of-type {\n",
       "        vertical-align: middle;\n",
       "    }\n",
       "\n",
       "    .dataframe tbody tr th {\n",
       "        vertical-align: top;\n",
       "    }\n",
       "\n",
       "    .dataframe thead th {\n",
       "        text-align: right;\n",
       "    }\n",
       "</style>\n",
       "<table border=\"1\" class=\"dataframe\">\n",
       "  <thead>\n",
       "    <tr style=\"text-align: right;\">\n",
       "      <th></th>\n",
       "      <th>ID</th>\n",
       "      <th>Datetime</th>\n",
       "      <th>Count</th>\n",
       "      <th>year</th>\n",
       "      <th>month</th>\n",
       "      <th>day</th>\n",
       "      <th>hour</th>\n",
       "      <th>Day of Week</th>\n",
       "      <th>Weekend</th>\n",
       "    </tr>\n",
       "  </thead>\n",
       "  <tbody>\n",
       "    <tr>\n",
       "      <th>5218</th>\n",
       "      <td>5218</td>\n",
       "      <td>2013-03-30 10:00:00</td>\n",
       "      <td>20</td>\n",
       "      <td>2013</td>\n",
       "      <td>3</td>\n",
       "      <td>30</td>\n",
       "      <td>10</td>\n",
       "      <td>5</td>\n",
       "      <td>1</td>\n",
       "    </tr>\n",
       "    <tr>\n",
       "      <th>8058</th>\n",
       "      <td>8058</td>\n",
       "      <td>2013-07-26 18:00:00</td>\n",
       "      <td>118</td>\n",
       "      <td>2013</td>\n",
       "      <td>7</td>\n",
       "      <td>26</td>\n",
       "      <td>18</td>\n",
       "      <td>4</td>\n",
       "      <td>0</td>\n",
       "    </tr>\n",
       "    <tr>\n",
       "      <th>17769</th>\n",
       "      <td>17769</td>\n",
       "      <td>2014-09-04 09:00:00</td>\n",
       "      <td>322</td>\n",
       "      <td>2014</td>\n",
       "      <td>9</td>\n",
       "      <td>4</td>\n",
       "      <td>9</td>\n",
       "      <td>3</td>\n",
       "      <td>0</td>\n",
       "    </tr>\n",
       "    <tr>\n",
       "      <th>12731</th>\n",
       "      <td>12731</td>\n",
       "      <td>2014-02-06 11:00:00</td>\n",
       "      <td>256</td>\n",
       "      <td>2014</td>\n",
       "      <td>2</td>\n",
       "      <td>6</td>\n",
       "      <td>11</td>\n",
       "      <td>3</td>\n",
       "      <td>0</td>\n",
       "    </tr>\n",
       "    <tr>\n",
       "      <th>10861</th>\n",
       "      <td>10861</td>\n",
       "      <td>2013-11-20 13:00:00</td>\n",
       "      <td>184</td>\n",
       "      <td>2013</td>\n",
       "      <td>11</td>\n",
       "      <td>20</td>\n",
       "      <td>13</td>\n",
       "      <td>2</td>\n",
       "      <td>0</td>\n",
       "    </tr>\n",
       "  </tbody>\n",
       "</table>\n",
       "</div>"
      ],
      "text/plain": [
       "          ID            Datetime  Count  year  month  day  hour  Day of Week  \\\n",
       "5218    5218 2013-03-30 10:00:00     20  2013      3   30    10            5   \n",
       "8058    8058 2013-07-26 18:00:00    118  2013      7   26    18            4   \n",
       "17769  17769 2014-09-04 09:00:00    322  2014      9    4     9            3   \n",
       "12731  12731 2014-02-06 11:00:00    256  2014      2    6    11            3   \n",
       "10861  10861 2013-11-20 13:00:00    184  2013     11   20    13            2   \n",
       "\n",
       "       Weekend  \n",
       "5218         1  \n",
       "8058         0  \n",
       "17769        0  \n",
       "12731        0  \n",
       "10861        0  "
      ]
     },
     "execution_count": 14,
     "metadata": {},
     "output_type": "execute_result"
    }
   ],
   "source": [
    "train['Weekend'] = train['Datetime'].apply(applyer)\n",
    "train.sample(5)"
   ]
  },
  {
   "cell_type": "code",
   "execution_count": 15,
   "id": "065bc5df",
   "metadata": {},
   "outputs": [
    {
     "data": {
      "image/png": "[encoded data removed]",
      "text/plain": [
       "<Figure size 432x288 with 1 Axes>"
      ]
     },
     "metadata": {},
     "output_type": "display_data"
    }
   ],
   "source": [
    "sns.set_theme(style=\"darkgrid\")\n",
    "# Plot the responses for different events and regions\n",
    "sns.lineplot(x=\"Datetime\", y=\"Count\", data=train)\n",
    "plt.xticks(rotation=30)\n",
    "plt.title('Datetime vs Count')\n",
    "plt.show()"
   ]
  },
  {
   "cell_type": "markdown",
   "id": "55c00fdc",
   "metadata": {},
   "source": [
    "## EDA"
   ]
  },
  {
   "cell_type": "markdown",
   "id": "dc0d14cb",
   "metadata": {},
   "source": [
    "Will traffic increase as years pass by??"
   ]
  },
  {
   "cell_type": "code",
   "execution_count": 16,
   "id": "5118bd90",
   "metadata": {},
   "outputs": [
    {
     "data": {
      "image/png": "[encoded data removed]",
      "text/plain": [
       "<Figure size 432x288 with 1 Axes>"
      ]
     },
     "metadata": {},
     "output_type": "display_data"
    }
   ],
   "source": [
    "sns.set_theme(style=\"whitegrid\")\n",
    "ax = sns.barplot(x=\"year\", y=\"Count\", data=train)"
   ]
  },
  {
   "cell_type": "markdown",
   "id": "717b3d5a",
   "metadata": {},
   "source": [
    "Let's see passenger distribution through the year"
   ]
  },
  {
   "cell_type": "code",
   "execution_count": 17,
   "id": "a3363ef6",
   "metadata": {},
   "outputs": [
    {
     "data": {
      "image/png": "[encoded data removed]",
      "text/plain": [
       "<Figure size 432x288 with 1 Axes>"
      ]
     },
     "metadata": {},
     "output_type": "display_data"
    }
   ],
   "source": [
    "sns.set_theme(style=\"darkgrid\")\n",
    "sns.lineplot(x=\"month\", y=\"Count\",\n",
    "             data=train)\n",
    "plt.show()"
   ]
  },
  {
   "cell_type": "markdown",
   "id": "c0b96cf0",
   "metadata": {},
   "source": [
    "There is a decrease in the passenger count the last months of the year. This doesn't make much sense. Lets filter only 2013 and 2014 values"
   ]
  },
  {
   "cell_type": "code",
   "execution_count": 18,
   "id": "a7b294b4",
   "metadata": {},
   "outputs": [],
   "source": [
    "years = [2013, 2014]\n",
    "Data_20134 = train.loc[(train['year'] == 2013) | (train['year'] == 2014)]"
   ]
  },
  {
   "cell_type": "markdown",
   "id": "f011f4ec",
   "metadata": {},
   "source": [
    "#### Hourly analysis"
   ]
  },
  {
   "cell_type": "code",
   "execution_count": 19,
   "id": "8eddd664",
   "metadata": {},
   "outputs": [
    {
     "data": {
      "image/png": "[encoded data removed]",
      "text/plain": [
       "<Figure size 432x288 with 1 Axes>"
      ]
     },
     "metadata": {},
     "output_type": "display_data"
    }
   ],
   "source": [
    "sns.set_theme(style=\"darkgrid\")\n",
    "sns.lineplot(x=\"month\", y=\"Count\", hue='year',\n",
    "             data=Data_20134)\n",
    "plt.show()"
   ]
  },
  {
   "cell_type": "markdown",
   "id": "68546579",
   "metadata": {},
   "source": [
    "Conclusion:\n",
    "\n",
    "We check our previous insight, there is more people as years go by. Also, we don't have information yet about the last three 2014 months so we should look into years separatedly."
   ]
  },
  {
   "cell_type": "markdown",
   "id": "f25a4ef9",
   "metadata": {},
   "source": [
    "#### Daily analysis"
   ]
  },
  {
   "cell_type": "code",
   "execution_count": 20,
   "id": "4ffb7a7e",
   "metadata": {},
   "outputs": [
    {
     "data": {
      "image/png": "[encoded data removed]",
      "text/plain": [
       "<Figure size 432x288 with 1 Axes>"
      ]
     },
     "metadata": {},
     "output_type": "display_data"
    }
   ],
   "source": [
    "sns.set_theme(style=\"darkgrid\")\n",
    "sns.lineplot(x=\"day\", y=\"Count\", hue='year',\n",
    "             data=Data_20134)\n",
    "plt.show()"
   ]
  },
  {
   "cell_type": "markdown",
   "id": "1546540e",
   "metadata": {},
   "source": [
    "There isn't a clear conclusion about the passenger distribution along the month. We may get more meaningful conclusions looking into weekdays or not."
   ]
  },
  {
   "cell_type": "markdown",
   "id": "8e0b6444",
   "metadata": {},
   "source": [
    "#### Hourly analysis"
   ]
  },
  {
   "cell_type": "code",
   "execution_count": 21,
   "id": "0633c1d1",
   "metadata": {},
   "outputs": [
    {
     "data": {
      "image/png": "[encoded data removed]",
      "text/plain": [
       "<Figure size 432x288 with 1 Axes>"
      ]
     },
     "metadata": {},
     "output_type": "display_data"
    }
   ],
   "source": [
    "sns.set_theme(style=\"darkgrid\")\n",
    "sns.lineplot(x=\"hour\", y=\"Count\", hue='year',\n",
    "             data=Data_20134)\n",
    "plt.show()"
   ]
  },
  {
   "cell_type": "markdown",
   "id": "8f46ce2f",
   "metadata": {},
   "source": [
    "There is a passenger count drop around 1 am. People begin traveling to work at around 6 / 7 am and keep traveling constantly during the day."
   ]
  }
 ],
 "metadata": {
  "kernelspec": {
   "display_name": "Python 3 (ipykernel)",
   "language": "python",
   "name": "python3"
  },
  "language_info": {
   "codemirror_mode": {
    "name": "ipython",
    "version": 3
   },
   "file_extension": ".py",
   "mimetype": "text/x-python",
   "name": "python",
   "nbconvert_exporter": "python",
   "pygments_lexer": "ipython3",
   "version": "3.9.7"
  }
 },
 "nbformat": 4,
 "nbformat_minor": 5
}
